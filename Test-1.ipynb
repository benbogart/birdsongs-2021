{
 "cells": [
  {
   "cell_type": "code",
   "execution_count": 1,
   "id": "sweet-flower",
   "metadata": {},
   "outputs": [
    {
     "name": "stderr",
     "output_type": "stream",
     "text": [
      "Using TensorFlow backend.\n",
      "/Users/benbogart/opt/anaconda3/envs/l3/lib/python3.6/site-packages/tensorflow/python/framework/dtypes.py:526: FutureWarning: Passing (type, 1) or '1type' as a synonym of type is deprecated; in a future version of numpy, it will be understood as (type, (1,)) / '(1,)type'.\n",
      "  _np_qint8 = np.dtype([(\"qint8\", np.int8, 1)])\n",
      "/Users/benbogart/opt/anaconda3/envs/l3/lib/python3.6/site-packages/tensorflow/python/framework/dtypes.py:527: FutureWarning: Passing (type, 1) or '1type' as a synonym of type is deprecated; in a future version of numpy, it will be understood as (type, (1,)) / '(1,)type'.\n",
      "  _np_quint8 = np.dtype([(\"quint8\", np.uint8, 1)])\n",
      "/Users/benbogart/opt/anaconda3/envs/l3/lib/python3.6/site-packages/tensorflow/python/framework/dtypes.py:528: FutureWarning: Passing (type, 1) or '1type' as a synonym of type is deprecated; in a future version of numpy, it will be understood as (type, (1,)) / '(1,)type'.\n",
      "  _np_qint16 = np.dtype([(\"qint16\", np.int16, 1)])\n",
      "/Users/benbogart/opt/anaconda3/envs/l3/lib/python3.6/site-packages/tensorflow/python/framework/dtypes.py:529: FutureWarning: Passing (type, 1) or '1type' as a synonym of type is deprecated; in a future version of numpy, it will be understood as (type, (1,)) / '(1,)type'.\n",
      "  _np_quint16 = np.dtype([(\"quint16\", np.uint16, 1)])\n",
      "/Users/benbogart/opt/anaconda3/envs/l3/lib/python3.6/site-packages/tensorflow/python/framework/dtypes.py:530: FutureWarning: Passing (type, 1) or '1type' as a synonym of type is deprecated; in a future version of numpy, it will be understood as (type, (1,)) / '(1,)type'.\n",
      "  _np_qint32 = np.dtype([(\"qint32\", np.int32, 1)])\n",
      "/Users/benbogart/opt/anaconda3/envs/l3/lib/python3.6/site-packages/tensorflow/python/framework/dtypes.py:535: FutureWarning: Passing (type, 1) or '1type' as a synonym of type is deprecated; in a future version of numpy, it will be understood as (type, (1,)) / '(1,)type'.\n",
      "  np_resource = np.dtype([(\"resource\", np.ubyte, 1)])\n"
     ]
    }
   ],
   "source": [
    "import pandas as pd\n",
    "import os\n",
    "import soundfile as sf\n",
    "from glob import glob\n",
    "import openl3 as l3"
   ]
  },
  {
   "cell_type": "code",
   "execution_count": 2,
   "id": "adapted-leonard",
   "metadata": {},
   "outputs": [
    {
     "data": {
      "text/plain": [
       "['birdclef2021-tfaudiodataset.ipynb',\n",
       " 'Untitled.ipynb',\n",
       " 'birdclef2021-sample-submission.ipynb',\n",
       " 'birdclef-2021.zip',\n",
       " '.ipynb_checkpoints',\n",
       " 'birdclef2021']"
      ]
     },
     "execution_count": 2,
     "metadata": {},
     "output_type": "execute_result"
    }
   ],
   "source": [
    "os.listdir()"
   ]
  },
  {
   "cell_type": "code",
   "execution_count": 3,
   "id": "architectural-territory",
   "metadata": {},
   "outputs": [
    {
     "data": {
      "text/html": [
       "<div>\n",
       "<style scoped>\n",
       "    .dataframe tbody tr th:only-of-type {\n",
       "        vertical-align: middle;\n",
       "    }\n",
       "\n",
       "    .dataframe tbody tr th {\n",
       "        vertical-align: top;\n",
       "    }\n",
       "\n",
       "    .dataframe thead th {\n",
       "        text-align: right;\n",
       "    }\n",
       "</style>\n",
       "<table border=\"1\" class=\"dataframe\">\n",
       "  <thead>\n",
       "    <tr style=\"text-align: right;\">\n",
       "      <th></th>\n",
       "      <th>primary_label</th>\n",
       "      <th>secondary_labels</th>\n",
       "      <th>type</th>\n",
       "      <th>latitude</th>\n",
       "      <th>longitude</th>\n",
       "      <th>scientific_name</th>\n",
       "      <th>common_name</th>\n",
       "      <th>author</th>\n",
       "      <th>date</th>\n",
       "      <th>filename</th>\n",
       "      <th>license</th>\n",
       "      <th>rating</th>\n",
       "      <th>time</th>\n",
       "      <th>url</th>\n",
       "    </tr>\n",
       "  </thead>\n",
       "  <tbody>\n",
       "    <tr>\n",
       "      <th>0</th>\n",
       "      <td>acafly</td>\n",
       "      <td>['amegfi']</td>\n",
       "      <td>['begging call', 'call', 'juvenile']</td>\n",
       "      <td>35.3860</td>\n",
       "      <td>-84.1250</td>\n",
       "      <td>Empidonax virescens</td>\n",
       "      <td>Acadian Flycatcher</td>\n",
       "      <td>Mike Nelson</td>\n",
       "      <td>2012-08-12</td>\n",
       "      <td>XC109605.ogg</td>\n",
       "      <td>Creative Commons Attribution-NonCommercial-Sha...</td>\n",
       "      <td>2.5</td>\n",
       "      <td>09:30</td>\n",
       "      <td>https://www.xeno-canto.org/109605</td>\n",
       "    </tr>\n",
       "    <tr>\n",
       "      <th>1</th>\n",
       "      <td>acafly</td>\n",
       "      <td>[]</td>\n",
       "      <td>['call']</td>\n",
       "      <td>9.1334</td>\n",
       "      <td>-79.6501</td>\n",
       "      <td>Empidonax virescens</td>\n",
       "      <td>Acadian Flycatcher</td>\n",
       "      <td>Allen T. Chartier</td>\n",
       "      <td>2000-12-26</td>\n",
       "      <td>XC11209.ogg</td>\n",
       "      <td>Creative Commons Attribution-NonCommercial-Sha...</td>\n",
       "      <td>3.0</td>\n",
       "      <td>?</td>\n",
       "      <td>https://www.xeno-canto.org/11209</td>\n",
       "    </tr>\n",
       "    <tr>\n",
       "      <th>2</th>\n",
       "      <td>acafly</td>\n",
       "      <td>[]</td>\n",
       "      <td>['call']</td>\n",
       "      <td>5.7813</td>\n",
       "      <td>-75.7452</td>\n",
       "      <td>Empidonax virescens</td>\n",
       "      <td>Acadian Flycatcher</td>\n",
       "      <td>Sergio Chaparro-Herrera</td>\n",
       "      <td>2012-01-10</td>\n",
       "      <td>XC127032.ogg</td>\n",
       "      <td>Creative Commons Attribution-NonCommercial-Sha...</td>\n",
       "      <td>3.0</td>\n",
       "      <td>15:20</td>\n",
       "      <td>https://www.xeno-canto.org/127032</td>\n",
       "    </tr>\n",
       "    <tr>\n",
       "      <th>3</th>\n",
       "      <td>acafly</td>\n",
       "      <td>['whwbec1']</td>\n",
       "      <td>['call']</td>\n",
       "      <td>4.6717</td>\n",
       "      <td>-75.6283</td>\n",
       "      <td>Empidonax virescens</td>\n",
       "      <td>Acadian Flycatcher</td>\n",
       "      <td>Oscar Humberto Marin-Gomez</td>\n",
       "      <td>2009-06-19</td>\n",
       "      <td>XC129974.ogg</td>\n",
       "      <td>Creative Commons Attribution-NonCommercial-Sha...</td>\n",
       "      <td>3.5</td>\n",
       "      <td>07:50</td>\n",
       "      <td>https://www.xeno-canto.org/129974</td>\n",
       "    </tr>\n",
       "    <tr>\n",
       "      <th>4</th>\n",
       "      <td>acafly</td>\n",
       "      <td>['whwbec1']</td>\n",
       "      <td>['call']</td>\n",
       "      <td>4.6717</td>\n",
       "      <td>-75.6283</td>\n",
       "      <td>Empidonax virescens</td>\n",
       "      <td>Acadian Flycatcher</td>\n",
       "      <td>Oscar Humberto Marin-Gomez</td>\n",
       "      <td>2009-06-19</td>\n",
       "      <td>XC129981.ogg</td>\n",
       "      <td>Creative Commons Attribution-NonCommercial-Sha...</td>\n",
       "      <td>3.5</td>\n",
       "      <td>07:50</td>\n",
       "      <td>https://www.xeno-canto.org/129981</td>\n",
       "    </tr>\n",
       "    <tr>\n",
       "      <th>...</th>\n",
       "      <td>...</td>\n",
       "      <td>...</td>\n",
       "      <td>...</td>\n",
       "      <td>...</td>\n",
       "      <td>...</td>\n",
       "      <td>...</td>\n",
       "      <td>...</td>\n",
       "      <td>...</td>\n",
       "      <td>...</td>\n",
       "      <td>...</td>\n",
       "      <td>...</td>\n",
       "      <td>...</td>\n",
       "      <td>...</td>\n",
       "      <td>...</td>\n",
       "    </tr>\n",
       "    <tr>\n",
       "      <th>62869</th>\n",
       "      <td>yetvir</td>\n",
       "      <td>[]</td>\n",
       "      <td>['adult', 'male', 'song']</td>\n",
       "      <td>30.2150</td>\n",
       "      <td>-97.6505</td>\n",
       "      <td>Vireo flavifrons</td>\n",
       "      <td>Yellow-throated Vireo</td>\n",
       "      <td>Caleb Helsel</td>\n",
       "      <td>2020-07-10</td>\n",
       "      <td>XC591680.ogg</td>\n",
       "      <td>Creative Commons Attribution-NonCommercial-Sha...</td>\n",
       "      <td>1.0</td>\n",
       "      <td>08:30</td>\n",
       "      <td>https://www.xeno-canto.org/591680</td>\n",
       "    </tr>\n",
       "    <tr>\n",
       "      <th>62870</th>\n",
       "      <td>yetvir</td>\n",
       "      <td>[]</td>\n",
       "      <td>['life stage uncertain', 'sex uncertain', 'song']</td>\n",
       "      <td>42.3005</td>\n",
       "      <td>-72.5877</td>\n",
       "      <td>Vireo flavifrons</td>\n",
       "      <td>Yellow-throated Vireo</td>\n",
       "      <td>Christopher McPherson</td>\n",
       "      <td>2019-05-31</td>\n",
       "      <td>XC600085.ogg</td>\n",
       "      <td>Creative Commons Attribution-NonCommercial-Sha...</td>\n",
       "      <td>5.0</td>\n",
       "      <td>09:30</td>\n",
       "      <td>https://www.xeno-canto.org/600085</td>\n",
       "    </tr>\n",
       "    <tr>\n",
       "      <th>62871</th>\n",
       "      <td>yetvir</td>\n",
       "      <td>['amered', 'eawpew', 'norcar', 'reevir1']</td>\n",
       "      <td>['adult', 'male', 'song']</td>\n",
       "      <td>42.3005</td>\n",
       "      <td>-72.5877</td>\n",
       "      <td>Vireo flavifrons</td>\n",
       "      <td>Yellow-throated Vireo</td>\n",
       "      <td>Christopher McPherson</td>\n",
       "      <td>2020-06-02</td>\n",
       "      <td>XC602701.ogg</td>\n",
       "      <td>Creative Commons Attribution-NonCommercial-Sha...</td>\n",
       "      <td>4.5</td>\n",
       "      <td>08:30</td>\n",
       "      <td>https://www.xeno-canto.org/602701</td>\n",
       "    </tr>\n",
       "    <tr>\n",
       "      <th>62872</th>\n",
       "      <td>yetvir</td>\n",
       "      <td>[]</td>\n",
       "      <td>['uncertain']</td>\n",
       "      <td>32.2357</td>\n",
       "      <td>-99.8811</td>\n",
       "      <td>Vireo flavifrons</td>\n",
       "      <td>Yellow-throated Vireo</td>\n",
       "      <td>Brad Banner</td>\n",
       "      <td>2019-04-27</td>\n",
       "      <td>XC614733.ogg</td>\n",
       "      <td>Creative Commons Attribution-NonCommercial-Sha...</td>\n",
       "      <td>4.0</td>\n",
       "      <td>17:30</td>\n",
       "      <td>https://www.xeno-canto.org/614733</td>\n",
       "    </tr>\n",
       "    <tr>\n",
       "      <th>62873</th>\n",
       "      <td>yetvir</td>\n",
       "      <td>['gamqua', 'whwdov']</td>\n",
       "      <td>['adult', 'male', 'song']</td>\n",
       "      <td>31.9060</td>\n",
       "      <td>-109.1543</td>\n",
       "      <td>Vireo flavifrons</td>\n",
       "      <td>Yellow-throated Vireo</td>\n",
       "      <td>Richard E. Webster</td>\n",
       "      <td>2020-05-26</td>\n",
       "      <td>XC615888.ogg</td>\n",
       "      <td>Creative Commons Attribution-NonCommercial-Sha...</td>\n",
       "      <td>4.5</td>\n",
       "      <td>06:23</td>\n",
       "      <td>https://www.xeno-canto.org/615888</td>\n",
       "    </tr>\n",
       "  </tbody>\n",
       "</table>\n",
       "<p>62874 rows × 14 columns</p>\n",
       "</div>"
      ],
      "text/plain": [
       "      primary_label                           secondary_labels  \\\n",
       "0            acafly                                 ['amegfi']   \n",
       "1            acafly                                         []   \n",
       "2            acafly                                         []   \n",
       "3            acafly                                ['whwbec1']   \n",
       "4            acafly                                ['whwbec1']   \n",
       "...             ...                                        ...   \n",
       "62869        yetvir                                         []   \n",
       "62870        yetvir                                         []   \n",
       "62871        yetvir  ['amered', 'eawpew', 'norcar', 'reevir1']   \n",
       "62872        yetvir                                         []   \n",
       "62873        yetvir                       ['gamqua', 'whwdov']   \n",
       "\n",
       "                                                    type  latitude  longitude  \\\n",
       "0                   ['begging call', 'call', 'juvenile']   35.3860   -84.1250   \n",
       "1                                               ['call']    9.1334   -79.6501   \n",
       "2                                               ['call']    5.7813   -75.7452   \n",
       "3                                               ['call']    4.6717   -75.6283   \n",
       "4                                               ['call']    4.6717   -75.6283   \n",
       "...                                                  ...       ...        ...   \n",
       "62869                          ['adult', 'male', 'song']   30.2150   -97.6505   \n",
       "62870  ['life stage uncertain', 'sex uncertain', 'song']   42.3005   -72.5877   \n",
       "62871                          ['adult', 'male', 'song']   42.3005   -72.5877   \n",
       "62872                                      ['uncertain']   32.2357   -99.8811   \n",
       "62873                          ['adult', 'male', 'song']   31.9060  -109.1543   \n",
       "\n",
       "           scientific_name            common_name                      author  \\\n",
       "0      Empidonax virescens     Acadian Flycatcher                 Mike Nelson   \n",
       "1      Empidonax virescens     Acadian Flycatcher           Allen T. Chartier   \n",
       "2      Empidonax virescens     Acadian Flycatcher     Sergio Chaparro-Herrera   \n",
       "3      Empidonax virescens     Acadian Flycatcher  Oscar Humberto Marin-Gomez   \n",
       "4      Empidonax virescens     Acadian Flycatcher  Oscar Humberto Marin-Gomez   \n",
       "...                    ...                    ...                         ...   \n",
       "62869     Vireo flavifrons  Yellow-throated Vireo                Caleb Helsel   \n",
       "62870     Vireo flavifrons  Yellow-throated Vireo       Christopher McPherson   \n",
       "62871     Vireo flavifrons  Yellow-throated Vireo       Christopher McPherson   \n",
       "62872     Vireo flavifrons  Yellow-throated Vireo                 Brad Banner   \n",
       "62873     Vireo flavifrons  Yellow-throated Vireo          Richard E. Webster   \n",
       "\n",
       "             date      filename  \\\n",
       "0      2012-08-12  XC109605.ogg   \n",
       "1      2000-12-26   XC11209.ogg   \n",
       "2      2012-01-10  XC127032.ogg   \n",
       "3      2009-06-19  XC129974.ogg   \n",
       "4      2009-06-19  XC129981.ogg   \n",
       "...           ...           ...   \n",
       "62869  2020-07-10  XC591680.ogg   \n",
       "62870  2019-05-31  XC600085.ogg   \n",
       "62871  2020-06-02  XC602701.ogg   \n",
       "62872  2019-04-27  XC614733.ogg   \n",
       "62873  2020-05-26  XC615888.ogg   \n",
       "\n",
       "                                                 license  rating   time  \\\n",
       "0      Creative Commons Attribution-NonCommercial-Sha...     2.5  09:30   \n",
       "1      Creative Commons Attribution-NonCommercial-Sha...     3.0      ?   \n",
       "2      Creative Commons Attribution-NonCommercial-Sha...     3.0  15:20   \n",
       "3      Creative Commons Attribution-NonCommercial-Sha...     3.5  07:50   \n",
       "4      Creative Commons Attribution-NonCommercial-Sha...     3.5  07:50   \n",
       "...                                                  ...     ...    ...   \n",
       "62869  Creative Commons Attribution-NonCommercial-Sha...     1.0  08:30   \n",
       "62870  Creative Commons Attribution-NonCommercial-Sha...     5.0  09:30   \n",
       "62871  Creative Commons Attribution-NonCommercial-Sha...     4.5  08:30   \n",
       "62872  Creative Commons Attribution-NonCommercial-Sha...     4.0  17:30   \n",
       "62873  Creative Commons Attribution-NonCommercial-Sha...     4.5  06:23   \n",
       "\n",
       "                                     url  \n",
       "0      https://www.xeno-canto.org/109605  \n",
       "1       https://www.xeno-canto.org/11209  \n",
       "2      https://www.xeno-canto.org/127032  \n",
       "3      https://www.xeno-canto.org/129974  \n",
       "4      https://www.xeno-canto.org/129981  \n",
       "...                                  ...  \n",
       "62869  https://www.xeno-canto.org/591680  \n",
       "62870  https://www.xeno-canto.org/600085  \n",
       "62871  https://www.xeno-canto.org/602701  \n",
       "62872  https://www.xeno-canto.org/614733  \n",
       "62873  https://www.xeno-canto.org/615888  \n",
       "\n",
       "[62874 rows x 14 columns]"
      ]
     },
     "execution_count": 3,
     "metadata": {},
     "output_type": "execute_result"
    }
   ],
   "source": [
    "pd.read_csv('birdclef2021/train_metadata.csv')"
   ]
  },
  {
   "cell_type": "code",
   "execution_count": 4,
   "id": "radio-practice",
   "metadata": {},
   "outputs": [
    {
     "data": {
      "text/plain": [
       "['birdclef2021/train_short_audio/acafly/XC109605.ogg',\n",
       " 'birdclef2021/train_short_audio/acafly/XC11209.ogg',\n",
       " 'birdclef2021/train_short_audio/acafly/XC127032.ogg',\n",
       " 'birdclef2021/train_short_audio/acafly/XC129974.ogg',\n",
       " 'birdclef2021/train_short_audio/acafly/XC129981.ogg']"
      ]
     },
     "execution_count": 4,
     "metadata": {},
     "output_type": "execute_result"
    }
   ],
   "source": [
    "all_ogg = glob('birdclef2021/train_short_audio/*/*.ogg')\n",
    "all_ogg[:5]"
   ]
  },
  {
   "cell_type": "code",
   "execution_count": 5,
   "id": "dominant-lecture",
   "metadata": {},
   "outputs": [
    {
     "data": {
      "text/plain": [
       "62874"
      ]
     },
     "execution_count": 5,
     "metadata": {},
     "output_type": "execute_result"
    }
   ],
   "source": [
    "len(all_ogg)"
   ]
  },
  {
   "cell_type": "code",
   "execution_count": 6,
   "id": "arranged-edmonton",
   "metadata": {},
   "outputs": [
    {
     "data": {
      "text/plain": [
       "1347954"
      ]
     },
     "execution_count": 6,
     "metadata": {},
     "output_type": "execute_result"
    }
   ],
   "source": [
    "signal, sr = sf.read(all_ogg[5])\n",
    "len(signal)"
   ]
  },
  {
   "cell_type": "code",
   "execution_count": 7,
   "id": "clear-bradley",
   "metadata": {},
   "outputs": [
    {
     "data": {
      "text/plain": [
       "2211488"
      ]
     },
     "execution_count": 7,
     "metadata": {},
     "output_type": "execute_result"
    }
   ],
   "source": [
    "signal, sr = sf.read(all_ogg[100])\n",
    "len(signal)"
   ]
  },
  {
   "cell_type": "code",
   "execution_count": 12,
   "id": "frank-aviation",
   "metadata": {},
   "outputs": [
    {
     "name": "stdout",
     "output_type": "stream",
     "text": [
      "688/688 [==============================] - 400s 582ms/step\n"
     ]
    }
   ],
   "source": [
    "embeddings, timestamps = l3.get_audio_embedding(signal, sr=sr)"
   ]
  },
  {
   "cell_type": "code",
   "execution_count": 13,
   "id": "vanilla-costume",
   "metadata": {},
   "outputs": [
    {
     "data": {
      "text/plain": [
       "(688, 6144)"
      ]
     },
     "execution_count": 13,
     "metadata": {},
     "output_type": "execute_result"
    }
   ],
   "source": [
    "embeddings.shape"
   ]
  },
  {
   "cell_type": "code",
   "execution_count": 14,
   "id": "qualified-redhead",
   "metadata": {},
   "outputs": [
    {
     "data": {
      "text/plain": [
       "4227072"
      ]
     },
     "execution_count": 14,
     "metadata": {},
     "output_type": "execute_result"
    }
   ],
   "source": [
    "embeddings.shape[0] * embeddings.shape[1]"
   ]
  },
  {
   "cell_type": "code",
   "execution_count": 15,
   "id": "further-radius",
   "metadata": {},
   "outputs": [
    {
     "data": {
      "text/plain": [
       "-2015584"
      ]
     },
     "execution_count": 15,
     "metadata": {},
     "output_type": "execute_result"
    }
   ],
   "source": [
    "len(signal) - embeddings.shape[0] * embeddings.shape[1]\n"
   ]
  },
  {
   "cell_type": "code",
   "execution_count": null,
   "id": "acquired-ceramic",
   "metadata": {},
   "outputs": [],
   "source": []
  }
 ],
 "metadata": {
  "kernelspec": {
   "display_name": "Python [conda env:l3]",
   "language": "python",
   "name": "conda-env-l3-py"
  },
  "language_info": {
   "codemirror_mode": {
    "name": "ipython",
    "version": 3
   },
   "file_extension": ".py",
   "mimetype": "text/x-python",
   "name": "python",
   "nbconvert_exporter": "python",
   "pygments_lexer": "ipython3",
   "version": "3.6.13"
  },
  "toc": {
   "base_numbering": 1,
   "nav_menu": {},
   "number_sections": true,
   "sideBar": true,
   "skip_h1_title": false,
   "title_cell": "Table of Contents",
   "title_sidebar": "Contents",
   "toc_cell": false,
   "toc_position": {},
   "toc_section_display": true,
   "toc_window_display": false
  }
 },
 "nbformat": 4,
 "nbformat_minor": 5
}
